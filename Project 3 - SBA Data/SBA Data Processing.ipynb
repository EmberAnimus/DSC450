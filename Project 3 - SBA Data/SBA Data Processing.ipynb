{
 "cells": [
  {
   "cell_type": "code",
   "execution_count": 24,
   "metadata": {},
   "outputs": [],
   "source": [
    "#import all needed libs and set base paths for the data\n",
    "import pandas as pd, numpy as np, tempfile\n",
    "from pathlib import Path\n",
    "from tqdm.notebook import tqdm\n",
    "\n",
    "base_path = Path()\n",
    "raw_data_path = base_path.joinpath('raw-data')\n",
    "processed_data_path = base_path.joinpath('processed-data')\n",
    "split_data_path = base_path.joinpath('split-data')"
   ]
  },
  {
   "cell_type": "code",
   "execution_count": 34,
   "metadata": {},
   "outputs": [],
   "source": [
    "#All functions for handling the data are defined here\n",
    "\n",
    "def load_data(type:str):\n",
    "    '''type: raw, processed, or split \\n\n",
    "    returns a dataframe of all the data from the specified type'''\n",
    "    type = type.lower()\n",
    "    try:\n",
    "        if type == 'raw':\n",
    "            all_files = raw_data_path.glob('*.csv')\n",
    "        elif type == 'processed':\n",
    "            all_files = processed_data_path.glob('*.csv')\n",
    "        elif type == 'split':\n",
    "            all_files = split_data_path.glob('*.csv')\n",
    "        all_files = [filename.as_posix() for filename in all_files]\n",
    "\n",
    "        if len(list(all_files)) == 0:\n",
    "            print('No files found in raw data folder')\n",
    "            return None\n",
    "        elif len(list(all_files)) == 1:\n",
    "            data = pd.read_csv(all_files[0], encoding_errors='ignore', header=0, low_memory=False)\n",
    "        elif len(list(all_files)) > 1:\n",
    "            data = pd.concat([pd.read_csv(f, encoding_errors='ignore', header=0, low_memory=False) for f in all_files])\n",
    "        return data\n",
    "    except Exception as e:\n",
    "        print(e)\n",
    "        return None\n",
    "\n",
    "def save_data(data: pd.DataFrame, max_file_size: int, processed: bool = True):\n",
    "    '''Takes in a dataframe and splits it into smaller dataframes of the specified size in MB if needed.\\n\n",
    "    If save is set to True, the dataframes will be saved. \\n\n",
    "    If processed is set to True, the dataframes will be saved to the processed-data folder. Otherwise they will be saved to the split-data folder.'''\n",
    "    \n",
    "    def estimate_csv_size(df):\n",
    "        # Serialize the DataFrame to a temporary file and check its size\n",
    "        with tempfile.NamedTemporaryFile() as temp_csv:\n",
    "            df.to_csv(temp_csv, index=False)\n",
    "            return temp_csv.tell() / 1024 ** 2\n",
    "\n",
    "    data_size = estimate_csv_size(data)\n",
    "    if processed:\n",
    "        save_path = processed_data_path\n",
    "    else:\n",
    "        save_path = split_data_path\n",
    "\n",
    "    for data_file in tqdm(save_path.glob('*.csv'), f'Deleting old files from {\"Processed\" if processed else \"Split\"} Data folder', total=len(list(save_path.glob('*.csv')))):\n",
    "        data_file.unlink()\n",
    "\n",
    "    if data_size < max_file_size:\n",
    "        print(f'Data has a size of {data_size:.2f}MB which is already smaller than {max_file_size}MB')\n",
    "        data.to_csv(save_path.joinpath('0.csv'), index=False)\n",
    "    else:\n",
    "        num_files = np.ceil(data_size / max_file_size)\n",
    "        print(f'Data is {data_size:.2f}MB, splitting into {num_files} files')\n",
    "\n",
    "        # Split the data into multiple DataFrames\n",
    "        split_data = np.array_split(data, num_files)\n",
    "\n",
    "        for i, df in tqdm(enumerate(split_data), f'Saving data to {\"Processed\" if processed else \"Split\"} Data folder', total=len(split_data)):\n",
    "            df.to_csv(save_path.joinpath(f'{i}.csv'), index=False)\n",
    "\n",
    "    return True\n",
    "\n",
    "def prune_col(data):\n",
    "    '''Takes in a dataframe and removes all unnecessary columns.\\n\n",
    "    Returns the dataframe with the columns removed.'''\n",
    "    keep_columns = [\n",
    "        \"BankName\", \"GrossApproval\", \"ApprovalDate\", \"ApprovalFiscalYear\", \"InitialInterestRate\", \"TermInMonths\", \"BusinessType\", \"BusinessAge\", \"LoanStatus\",\n",
    "        \"PaidInFullDate\", \"GrossChargeOffAmount\", \"RevolverStatus\", \"JobsSupported\"\n",
    "    ]\n",
    "    data = data[keep_columns]\n",
    "    return data\n",
    "\n",
    "def fill_missing(data:pd.DataFrame):\n",
    "    '''Takes in a pruned dataframe and fills some of the columns with estimated values. \\n\n",
    "    Returns the dataframe with the columns filled. '''\n",
    "\n",
    "    data['BusinessType'].fillna('Individual', inplace=True)\n",
    "    data['GrossApproval'].fillna(0, inplace=True)\n",
    "    \n",
    "\n",
    "    min_intrest_map = data.loc[:,['ApprovalFiscalYear', 'InitialInterestRate']].dropna().groupby('ApprovalFiscalYear').mean().to_dict()['InitialInterestRate']\n",
    "    min_year = data['ApprovalFiscalYear'].min()\n",
    "    max_year = data['ApprovalFiscalYear'].max()\n",
    "    for year in range(min_year, max_year + 1):\n",
    "        if year not in min_intrest_map:\n",
    "            min_intrest_map[year] = min_intrest_map[min(min_intrest_map.keys(), key=lambda k: abs(k-year))]\n",
    "    min_intrest_map = dict(sorted(min_intrest_map.items()))\n",
    "    data['InitialInterestRate'].fillna(data['ApprovalFiscalYear'].map(min_intrest_map), inplace=True)\n",
    "    data['InitialInterestRate'] = data['InitialInterestRate'].round(2)\n",
    "    \n",
    "    buisness_age_matrix = {\n",
    "        'Existing or more than 2 years old': 2,\n",
    "        'Startup, Loan Funds will Open Business': 0,\n",
    "        'New Business or 2 years or less': 1,\n",
    "        'Change of Ownership': 2,\n",
    "        'Unanswered': 1,\n",
    "        'Existing, 5 or more years': 5,\n",
    "        'New, Less than 1 Year old': 1,\n",
    "        'Less than 3 years old but at least 2': 2,\n",
    "        'Less than 4 years old but at least 3': 3,\n",
    "        'Less than 5 years old but at least 4': 4\n",
    "    }\n",
    "    data['BusinessAge'].fillna('Unanswered', inplace=True)\n",
    "    data['BusinessAge'] = data['BusinessAge'].map(buisness_age_matrix)\n",
    "\n",
    "    return data\n"
   ]
  },
  {
   "cell_type": "code",
   "execution_count": 37,
   "metadata": {},
   "outputs": [
    {
     "data": {
      "application/json": {
       "ascii": false,
       "bar_format": null,
       "colour": null,
       "elapsed": 0.004004240036010742,
       "initial": 0,
       "n": 0,
       "ncols": null,
       "nrows": null,
       "postfix": null,
       "prefix": "Deleting old files from Split Data folder",
       "rate": null,
       "total": 6,
       "unit": "it",
       "unit_divisor": 1000,
       "unit_scale": false
      },
      "application/vnd.jupyter.widget-view+json": {
       "model_id": "b10afd5bcb4c45e5b02dddb0c853df61",
       "version_major": 2,
       "version_minor": 0
      },
      "text/plain": [
       "Deleting old files from Split Data folder:   0%|          | 0/6 [00:00<?, ?it/s]"
      ]
     },
     "metadata": {},
     "output_type": "display_data"
    },
    {
     "name": "stdout",
     "output_type": "stream",
     "text": [
      "Data is 584.30MB, splitting into 7.0 files\n"
     ]
    },
    {
     "data": {
      "application/json": {
       "ascii": false,
       "bar_format": null,
       "colour": null,
       "elapsed": 0.00400090217590332,
       "initial": 0,
       "n": 0,
       "ncols": null,
       "nrows": null,
       "postfix": null,
       "prefix": "Saving data to Split Data folder",
       "rate": null,
       "total": 7,
       "unit": "it",
       "unit_divisor": 1000,
       "unit_scale": false
      },
      "application/vnd.jupyter.widget-view+json": {
       "model_id": "2e019c5fb7834d1bab2b40fbe78b21c7",
       "version_major": 2,
       "version_minor": 0
      },
      "text/plain": [
       "Saving data to Split Data folder:   0%|          | 0/7 [00:00<?, ?it/s]"
      ]
     },
     "metadata": {},
     "output_type": "display_data"
    },
    {
     "data": {
      "text/plain": [
       "True"
      ]
     },
     "execution_count": 37,
     "metadata": {},
     "output_type": "execute_result"
    }
   ],
   "source": [
    "raw_data = load_data('raw')\n",
    "save_data(raw_data, 85, processed=False)"
   ]
  },
  {
   "cell_type": "code",
   "execution_count": 6,
   "metadata": {},
   "outputs": [
    {
     "name": "stderr",
     "output_type": "stream",
     "text": [
      "C:\\Users\\sebas\\AppData\\Local\\Temp\\ipykernel_19208\\1102838769.py:69: SettingWithCopyWarning: \n",
      "A value is trying to be set on a copy of a slice from a DataFrame\n",
      "\n",
      "See the caveats in the documentation: https://pandas.pydata.org/pandas-docs/stable/user_guide/indexing.html#returning-a-view-versus-a-copy\n",
      "  data['BusinessType'].fillna('Individual', inplace=True)\n",
      "C:\\Users\\sebas\\AppData\\Local\\Temp\\ipykernel_19208\\1102838769.py:70: SettingWithCopyWarning: \n",
      "A value is trying to be set on a copy of a slice from a DataFrame\n",
      "\n",
      "See the caveats in the documentation: https://pandas.pydata.org/pandas-docs/stable/user_guide/indexing.html#returning-a-view-versus-a-copy\n",
      "  data['GrossApproval'].fillna(0, inplace=True)\n",
      "C:\\Users\\sebas\\AppData\\Local\\Temp\\ipykernel_19208\\1102838769.py:80: SettingWithCopyWarning: \n",
      "A value is trying to be set on a copy of a slice from a DataFrame\n",
      "\n",
      "See the caveats in the documentation: https://pandas.pydata.org/pandas-docs/stable/user_guide/indexing.html#returning-a-view-versus-a-copy\n",
      "  data['InitialInterestRate'].fillna(data['ApprovalFiscalYear'].map(min_intrest_map), inplace=True)\n",
      "C:\\Users\\sebas\\AppData\\Local\\Temp\\ipykernel_19208\\1102838769.py:81: SettingWithCopyWarning: \n",
      "A value is trying to be set on a copy of a slice from a DataFrame.\n",
      "Try using .loc[row_indexer,col_indexer] = value instead\n",
      "\n",
      "See the caveats in the documentation: https://pandas.pydata.org/pandas-docs/stable/user_guide/indexing.html#returning-a-view-versus-a-copy\n",
      "  data['InitialInterestRate'] = data['InitialInterestRate'].round(2)\n",
      "C:\\Users\\sebas\\AppData\\Local\\Temp\\ipykernel_19208\\1102838769.py:95: SettingWithCopyWarning: \n",
      "A value is trying to be set on a copy of a slice from a DataFrame\n",
      "\n",
      "See the caveats in the documentation: https://pandas.pydata.org/pandas-docs/stable/user_guide/indexing.html#returning-a-view-versus-a-copy\n",
      "  data['BusinessAge'].fillna('Unanswered', inplace=True)\n"
     ]
    },
    {
     "name": "stdout",
     "output_type": "stream",
     "text": [
      "(1755610, 13)\n"
     ]
    },
    {
     "name": "stderr",
     "output_type": "stream",
     "text": [
      "C:\\Users\\sebas\\AppData\\Local\\Temp\\ipykernel_19208\\1102838769.py:96: SettingWithCopyWarning: \n",
      "A value is trying to be set on a copy of a slice from a DataFrame.\n",
      "Try using .loc[row_indexer,col_indexer] = value instead\n",
      "\n",
      "See the caveats in the documentation: https://pandas.pydata.org/pandas-docs/stable/user_guide/indexing.html#returning-a-view-versus-a-copy\n",
      "  data['BusinessAge'] = data['BusinessAge'].map(buisness_age_matrix)\n"
     ]
    },
    {
     "data": {
      "text/html": [
       "<div>\n",
       "<style scoped>\n",
       "    .dataframe tbody tr th:only-of-type {\n",
       "        vertical-align: middle;\n",
       "    }\n",
       "\n",
       "    .dataframe tbody tr th {\n",
       "        vertical-align: top;\n",
       "    }\n",
       "\n",
       "    .dataframe thead th {\n",
       "        text-align: right;\n",
       "    }\n",
       "</style>\n",
       "<table border=\"1\" class=\"dataframe\">\n",
       "  <thead>\n",
       "    <tr style=\"text-align: right;\">\n",
       "      <th></th>\n",
       "      <th>BankName</th>\n",
       "      <th>GrossApproval</th>\n",
       "      <th>ApprovalDate</th>\n",
       "      <th>ApprovalFiscalYear</th>\n",
       "      <th>InitialInterestRate</th>\n",
       "      <th>TermInMonths</th>\n",
       "      <th>BusinessType</th>\n",
       "      <th>BusinessAge</th>\n",
       "      <th>LoanStatus</th>\n",
       "      <th>PaidInFullDate</th>\n",
       "      <th>GrossChargeOffAmount</th>\n",
       "      <th>RevolverStatus</th>\n",
       "      <th>JobsSupported</th>\n",
       "    </tr>\n",
       "  </thead>\n",
       "  <tbody>\n",
       "    <tr>\n",
       "      <th>0</th>\n",
       "      <td>CIBM Bank</td>\n",
       "      <td>330000.0</td>\n",
       "      <td>10/01/1990</td>\n",
       "      <td>1991</td>\n",
       "      <td>6.54</td>\n",
       "      <td>84</td>\n",
       "      <td>CORPORATION</td>\n",
       "      <td>1</td>\n",
       "      <td>PIF</td>\n",
       "      <td>07/31/2005</td>\n",
       "      <td>0</td>\n",
       "      <td>0</td>\n",
       "      <td>0</td>\n",
       "    </tr>\n",
       "    <tr>\n",
       "      <th>1</th>\n",
       "      <td>BMO Harris Bank National Association</td>\n",
       "      <td>98900.0</td>\n",
       "      <td>10/01/1990</td>\n",
       "      <td>1991</td>\n",
       "      <td>6.54</td>\n",
       "      <td>11</td>\n",
       "      <td>CORPORATION</td>\n",
       "      <td>1</td>\n",
       "      <td>PIF</td>\n",
       "      <td>07/31/2005</td>\n",
       "      <td>0</td>\n",
       "      <td>0</td>\n",
       "      <td>0</td>\n",
       "    </tr>\n",
       "    <tr>\n",
       "      <th>2</th>\n",
       "      <td>MISSINGMAINBANKID</td>\n",
       "      <td>120000.0</td>\n",
       "      <td>10/01/1990</td>\n",
       "      <td>1991</td>\n",
       "      <td>6.54</td>\n",
       "      <td>240</td>\n",
       "      <td>CORPORATION</td>\n",
       "      <td>1</td>\n",
       "      <td>CANCLD</td>\n",
       "      <td>NaN</td>\n",
       "      <td>0</td>\n",
       "      <td>0</td>\n",
       "      <td>0</td>\n",
       "    </tr>\n",
       "    <tr>\n",
       "      <th>3</th>\n",
       "      <td>U.S. Bank, National Association</td>\n",
       "      <td>250000.0</td>\n",
       "      <td>10/01/1990</td>\n",
       "      <td>1991</td>\n",
       "      <td>6.54</td>\n",
       "      <td>48</td>\n",
       "      <td>CORPORATION</td>\n",
       "      <td>1</td>\n",
       "      <td>PIF</td>\n",
       "      <td>07/31/2005</td>\n",
       "      <td>0</td>\n",
       "      <td>0</td>\n",
       "      <td>0</td>\n",
       "    </tr>\n",
       "    <tr>\n",
       "      <th>4</th>\n",
       "      <td>Manufacturers and Traders Trust Company</td>\n",
       "      <td>33500.0</td>\n",
       "      <td>10/01/1990</td>\n",
       "      <td>1991</td>\n",
       "      <td>6.54</td>\n",
       "      <td>84</td>\n",
       "      <td>CORPORATION</td>\n",
       "      <td>1</td>\n",
       "      <td>PIF</td>\n",
       "      <td>07/31/2005</td>\n",
       "      <td>0</td>\n",
       "      <td>0</td>\n",
       "      <td>0</td>\n",
       "    </tr>\n",
       "  </tbody>\n",
       "</table>\n",
       "</div>"
      ],
      "text/plain": [
       "                                  BankName  GrossApproval ApprovalDate  \\\n",
       "0                                CIBM Bank       330000.0   10/01/1990   \n",
       "1     BMO Harris Bank National Association        98900.0   10/01/1990   \n",
       "2                        MISSINGMAINBANKID       120000.0   10/01/1990   \n",
       "3          U.S. Bank, National Association       250000.0   10/01/1990   \n",
       "4  Manufacturers and Traders Trust Company        33500.0   10/01/1990   \n",
       "\n",
       "   ApprovalFiscalYear  InitialInterestRate  TermInMonths BusinessType  \\\n",
       "0                1991                 6.54            84  CORPORATION   \n",
       "1                1991                 6.54            11  CORPORATION   \n",
       "2                1991                 6.54           240  CORPORATION   \n",
       "3                1991                 6.54            48  CORPORATION   \n",
       "4                1991                 6.54            84  CORPORATION   \n",
       "\n",
       "   BusinessAge LoanStatus PaidInFullDate  GrossChargeOffAmount  \\\n",
       "0            1        PIF     07/31/2005                     0   \n",
       "1            1        PIF     07/31/2005                     0   \n",
       "2            1     CANCLD            NaN                     0   \n",
       "3            1        PIF     07/31/2005                     0   \n",
       "4            1        PIF     07/31/2005                     0   \n",
       "\n",
       "   RevolverStatus  JobsSupported  \n",
       "0               0              0  \n",
       "1               0              0  \n",
       "2               0              0  \n",
       "3               0              0  \n",
       "4               0              0  "
      ]
     },
     "metadata": {},
     "output_type": "display_data"
    }
   ],
   "source": [
    "pruned_data = prune_col(raw_data)\n",
    "pruned_data = fill_missing(pruned_data)\n",
    "print(pruned_data.shape)\n",
    "display(pruned_data.head())"
   ]
  },
  {
   "cell_type": "code",
   "execution_count": 7,
   "metadata": {},
   "outputs": [
    {
     "name": "stdout",
     "output_type": "stream",
     "text": [
      "0.1678789708420435\n"
     ]
    }
   ],
   "source": [
    "#get percentage of rows since 2018\n",
    "print(pruned_data[pruned_data['ApprovalFiscalYear'] >= 2018].shape[0]/pruned_data.shape[0])"
   ]
  },
  {
   "cell_type": "code",
   "execution_count": 8,
   "metadata": {},
   "outputs": [
    {
     "name": "stdout",
     "output_type": "stream",
     "text": [
      "0.2525327379087611\n"
     ]
    }
   ],
   "source": [
    "#get percentage of revolving credit lines\n",
    "print(pruned_data[pruned_data['RevolverStatus'] == 1].shape[0]/pruned_data.shape[0])"
   ]
  },
  {
   "cell_type": "code",
   "execution_count": 9,
   "metadata": {},
   "outputs": [
    {
     "data": {
      "text/plain": [
       "PaidInFullDate    0.395203\n",
       "dtype: float64"
      ]
     },
     "execution_count": 9,
     "metadata": {},
     "output_type": "execute_result"
    }
   ],
   "source": [
    "#get each columns percentage of null values\n",
    "null_percent = pruned_data.isnull().sum() / len(pruned_data)\n",
    "null_percent = null_percent[null_percent > 0]\n",
    "null_percent.sort_values(inplace=True)\n",
    "null_percent"
   ]
  },
  {
   "cell_type": "code",
   "execution_count": 20,
   "metadata": {},
   "outputs": [
    {
     "data": {
      "text/plain": [
       "BankName                      category\n",
       "GrossApproval                    int32\n",
       "ApprovalDate            datetime64[ns]\n",
       "ApprovalFiscalYear               int16\n",
       "InitialInterestRate            float32\n",
       "TermInMonths                     int16\n",
       "BusinessType                  category\n",
       "BusinessAge                       int8\n",
       "LoanStatus                    category\n",
       "PaidInFullDate          datetime64[ns]\n",
       "GrossChargeOffAmount             int32\n",
       "RevolverStatus                    int8\n",
       "JobsSupported                    int32\n",
       "dtype: object"
      ]
     },
     "metadata": {},
     "output_type": "display_data"
    },
    {
     "data": {
      "text/plain": [
       "Index                   14044880\n",
       "BankName                 4071719\n",
       "GrossApproval            7022440\n",
       "ApprovalDate            14044880\n",
       "ApprovalFiscalYear       3511220\n",
       "InitialInterestRate      7022440\n",
       "TermInMonths             3511220\n",
       "BusinessType             1756052\n",
       "BusinessAge              1755610\n",
       "LoanStatus               1756094\n",
       "PaidInFullDate          14044880\n",
       "GrossChargeOffAmount     7022440\n",
       "RevolverStatus           1755610\n",
       "JobsSupported            7022440\n",
       "dtype: int64"
      ]
     },
     "metadata": {},
     "output_type": "display_data"
    }
   ],
   "source": [
    "recast_dict = {\n",
    "    'BankName': 'category',\n",
    "    'GrossApproval': 'int32',\n",
    "    'ApprovalDate': 'datetime64[ns]',\n",
    "    'ApprovalFiscalYear': 'int16',\n",
    "    'InitialInterestRate': 'float32',\n",
    "    'TermInMonths': 'int16',\n",
    "    'BusinessType': 'category',\n",
    "    'BusinessAge': 'int8',\n",
    "    'LoanStatus': 'category',\n",
    "    'PaidInFullDate': 'datetime64[ns]',\n",
    "    'GrossChargeOffAmount': 'int32',\n",
    "    'RevolverStatus': 'int8',\n",
    "    'JobsSupported': 'int32'\n",
    "}\n",
    "pruned_data = pruned_data.astype(recast_dict)\n",
    "display(pruned_data.dtypes)\n",
    "display(pruned_data.memory_usage(deep=True))"
   ]
  },
  {
   "cell_type": "code",
   "execution_count": 39,
   "metadata": {},
   "outputs": [
    {
     "data": {
      "application/json": {
       "ascii": false,
       "bar_format": null,
       "colour": null,
       "elapsed": 0.0050046443939208984,
       "initial": 0,
       "n": 0,
       "ncols": null,
       "nrows": null,
       "postfix": null,
       "prefix": "Deleting old files from Processed Data folder",
       "rate": null,
       "total": 1,
       "unit": "it",
       "unit_divisor": 1000,
       "unit_scale": false
      },
      "application/vnd.jupyter.widget-view+json": {
       "model_id": "1858cfd4a6b8411fa231affa92eebae5",
       "version_major": 2,
       "version_minor": 0
      },
      "text/plain": [
       "Deleting old files from Processed Data folder:   0%|          | 0/1 [00:00<?, ?it/s]"
      ]
     },
     "metadata": {},
     "output_type": "display_data"
    },
    {
     "name": "stdout",
     "output_type": "stream",
     "text": [
      "Data is 155.66MB, splitting into 2.0 files\n"
     ]
    },
    {
     "data": {
      "application/json": {
       "ascii": false,
       "bar_format": null,
       "colour": null,
       "elapsed": 0.004000425338745117,
       "initial": 0,
       "n": 0,
       "ncols": null,
       "nrows": null,
       "postfix": null,
       "prefix": "Saving data to Processed Data folder",
       "rate": null,
       "total": 2,
       "unit": "it",
       "unit_divisor": 1000,
       "unit_scale": false
      },
      "application/vnd.jupyter.widget-view+json": {
       "model_id": "a6a2677ea1834cdaaccf3c8c24bda351",
       "version_major": 2,
       "version_minor": 0
      },
      "text/plain": [
       "Saving data to Processed Data folder:   0%|          | 0/2 [00:00<?, ?it/s]"
      ]
     },
     "metadata": {},
     "output_type": "display_data"
    },
    {
     "data": {
      "text/plain": [
       "True"
      ]
     },
     "execution_count": 39,
     "metadata": {},
     "output_type": "execute_result"
    }
   ],
   "source": [
    "save_data(pruned_data, 85, processed=True)"
   ]
  },
  {
   "cell_type": "code",
   "execution_count": null,
   "metadata": {},
   "outputs": [
    {
     "data": {
      "text/html": [
       "<div>\n",
       "<style scoped>\n",
       "    .dataframe tbody tr th:only-of-type {\n",
       "        vertical-align: middle;\n",
       "    }\n",
       "\n",
       "    .dataframe tbody tr th {\n",
       "        vertical-align: top;\n",
       "    }\n",
       "\n",
       "    .dataframe thead th {\n",
       "        text-align: right;\n",
       "    }\n",
       "</style>\n",
       "<table border=\"1\" class=\"dataframe\">\n",
       "  <thead>\n",
       "    <tr style=\"text-align: right;\">\n",
       "      <th></th>\n",
       "      <th>GrossApproval</th>\n",
       "      <th>InitialInterestRate</th>\n",
       "      <th>TermInMonths</th>\n",
       "      <th>GrossChargeOffAmount</th>\n",
       "      <th>JobsSupported</th>\n",
       "    </tr>\n",
       "  </thead>\n",
       "  <tbody>\n",
       "    <tr>\n",
       "      <th>count</th>\n",
       "      <td>1755610.000000</td>\n",
       "      <td>1755610.000000</td>\n",
       "      <td>1755610.000000</td>\n",
       "      <td>1755610.000000</td>\n",
       "      <td>1755610.000000</td>\n",
       "    </tr>\n",
       "    <tr>\n",
       "      <th>mean</th>\n",
       "      <td>286517.849603</td>\n",
       "      <td>6.577298</td>\n",
       "      <td>114.743535</td>\n",
       "      <td>12360.987425</td>\n",
       "      <td>7.788571</td>\n",
       "    </tr>\n",
       "    <tr>\n",
       "      <th>std</th>\n",
       "      <td>536508.776978</td>\n",
       "      <td>1.155749</td>\n",
       "      <td>77.998548</td>\n",
       "      <td>72501.106151</td>\n",
       "      <td>27.514746</td>\n",
       "    </tr>\n",
       "    <tr>\n",
       "      <th>min</th>\n",
       "      <td>0.000000</td>\n",
       "      <td>0.000000</td>\n",
       "      <td>0.000000</td>\n",
       "      <td>0.000000</td>\n",
       "      <td>0.000000</td>\n",
       "    </tr>\n",
       "    <tr>\n",
       "      <th>25%</th>\n",
       "      <td>35000.000000</td>\n",
       "      <td>6.350000</td>\n",
       "      <td>63.000000</td>\n",
       "      <td>0.000000</td>\n",
       "      <td>0.000000</td>\n",
       "    </tr>\n",
       "    <tr>\n",
       "      <th>50%</th>\n",
       "      <td>100000.000000</td>\n",
       "      <td>6.540000</td>\n",
       "      <td>84.000000</td>\n",
       "      <td>0.000000</td>\n",
       "      <td>3.000000</td>\n",
       "    </tr>\n",
       "    <tr>\n",
       "      <th>75%</th>\n",
       "      <td>299500.000000</td>\n",
       "      <td>6.540000</td>\n",
       "      <td>120.000000</td>\n",
       "      <td>0.000000</td>\n",
       "      <td>8.000000</td>\n",
       "    </tr>\n",
       "    <tr>\n",
       "      <th>max</th>\n",
       "      <td>5000000.000000</td>\n",
       "      <td>56.000000</td>\n",
       "      <td>847.000000</td>\n",
       "      <td>4706180.000000</td>\n",
       "      <td>9500.000000</td>\n",
       "    </tr>\n",
       "  </tbody>\n",
       "</table>\n",
       "</div>"
      ],
      "text/plain": [
       "        GrossApproval InitialInterestRate    TermInMonths  \\\n",
       "count  1755610.000000      1755610.000000  1755610.000000   \n",
       "mean    286517.849603            6.577298      114.743535   \n",
       "std     536508.776978            1.155749       77.998548   \n",
       "min          0.000000            0.000000        0.000000   \n",
       "25%      35000.000000            6.350000       63.000000   \n",
       "50%     100000.000000            6.540000       84.000000   \n",
       "75%     299500.000000            6.540000      120.000000   \n",
       "max    5000000.000000           56.000000      847.000000   \n",
       "\n",
       "      GrossChargeOffAmount   JobsSupported  \n",
       "count       1755610.000000  1755610.000000  \n",
       "mean          12360.987425        7.788571  \n",
       "std           72501.106151       27.514746  \n",
       "min               0.000000        0.000000  \n",
       "25%               0.000000        0.000000  \n",
       "50%               0.000000        3.000000  \n",
       "75%               0.000000        8.000000  \n",
       "max         4706180.000000     9500.000000  "
      ]
     },
     "execution_count": 95,
     "metadata": {},
     "output_type": "execute_result"
    }
   ],
   "source": [
    "#print summary statistics for some numeric columns\n",
    "pruned_data.describe().apply(lambda s: s.apply(lambda x: format(x, 'f'))).drop(['ApprovalFiscalYear', 'NaicsCode', 'BusinessAge', 'RevolverStatus'], axis=1)"
   ]
  }
 ],
 "metadata": {
  "kernelspec": {
   "display_name": "Python 3",
   "language": "python",
   "name": "python3"
  },
  "language_info": {
   "codemirror_mode": {
    "name": "ipython",
    "version": 3
   },
   "file_extension": ".py",
   "mimetype": "text/x-python",
   "name": "python",
   "nbconvert_exporter": "python",
   "pygments_lexer": "ipython3",
   "version": "3.9.9"
  }
 },
 "nbformat": 4,
 "nbformat_minor": 2
}
