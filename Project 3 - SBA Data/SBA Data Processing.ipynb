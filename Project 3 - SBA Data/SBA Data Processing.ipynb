{
 "cells": [
  {
   "cell_type": "code",
   "execution_count": 1,
   "metadata": {},
   "outputs": [],
   "source": [
    "#import all needed libs and set base paths for the data\n",
    "import pandas as pd, numpy as np\n",
    "from pathlib import Path\n",
    "from tqdm.notebook import tqdm\n",
    "\n",
    "base_path = Path()\n",
    "raw_data_path = base_path.joinpath('raw-data')\n",
    "processed_data_path = base_path.joinpath('processed-data')\n",
    "split_data_path = base_path.joinpath('split-data')"
   ]
  },
  {
   "cell_type": "code",
   "execution_count": 51,
   "metadata": {},
   "outputs": [],
   "source": [
    "#All functions for handling the data are defined here\n",
    "\n",
    "def load_data(type:str):\n",
    "    '''type: raw, processed, or split \\n\n",
    "    returns a dataframe of all the data from the specified type'''\n",
    "    type = type.lower()\n",
    "    try:\n",
    "        if type == 'raw':\n",
    "            all_files = raw_data_path.glob('*.csv')\n",
    "        elif type == 'processed':\n",
    "            all_files = processed_data_path.glob('*.csv')\n",
    "        elif type == 'split':\n",
    "            all_files = split_data_path.glob('*.csv')\n",
    "        all_files = [filename.as_posix() for filename in all_files]\n",
    "\n",
    "        if len(list(all_files)) == 0:\n",
    "            print('No files found in raw data folder')\n",
    "            return None\n",
    "        elif len(list(all_files)) == 1:\n",
    "            data = pd.read_csv(all_files[0], encoding_errors='ignore', header=0)\n",
    "        elif len(list(all_files)) > 1:\n",
    "            data = pd.concat([pd.read_csv(f, encoding_errors='ignore', header=0) for f in all_files])\n",
    "        return data\n",
    "    except Exception as e:\n",
    "        print(e)\n",
    "        return None\n",
    "    \n",
    "def prune_col(data):\n",
    "    '''Takes in a dataframe and removes all unnecessary columns.\\n\n",
    "    Returns the dataframe with the columns removed.'''\n",
    "    keep_columns = [\n",
    "        \"BankName\", \"GrossApproval\", \"ApprovalDate\", \"ApprovalFiscalYear\", \"InitialInterestRate\", \"TermInMonths\", \"NaicsCode\", \"BusinessType\", \"BusinessAge\", \"LoanStatus\",\n",
    "        \"PaidInFullDate\", \"GrossChargeOffAmount\", \"RevolverStatus\", \"JobsSupported\"\n",
    "    ]\n",
    "    data = data[keep_columns]\n",
    "    return data\n",
    "\n",
    "def fill_missing(data):\n",
    "    '''Takes in a pruned dataframe and fills some of the columns with estimated values. \\n\n",
    "    Returns the dataframe with the columns filled. '''\n",
    "\n",
    "    data['BusinessType'] = data['BusinessType'].fillna('Individual')\n",
    "    data['GrossApproval'] = data['GrossApproval'].fillna(0)\n",
    "\n",
    "    min_intrest_map = data['ApprovalFiscalYear', 'InitialInterestRate'].groupby('ApprovalFiscalYear').min().to_dict()\n",
    "    data['InitialInterestRate'] = \n",
    "    \n",
    "    \n",
    "    return data\n"
   ]
  },
  {
   "cell_type": "code",
   "execution_count": 52,
   "metadata": {},
   "outputs": [
    {
     "name": "stderr",
     "output_type": "stream",
     "text": [
      "C:\\Users\\sebas\\AppData\\Local\\Temp\\ipykernel_21868\\53397800.py:22: DtypeWarning: Columns (13,25) have mixed types. Specify dtype option on import or set low_memory=False.\n",
      "  data = pd.concat([pd.read_csv(f, encoding_errors='ignore', header=0) for f in all_files])\n",
      "C:\\Users\\sebas\\AppData\\Local\\Temp\\ipykernel_21868\\53397800.py:22: DtypeWarning: Columns (13,25) have mixed types. Specify dtype option on import or set low_memory=False.\n",
      "  data = pd.concat([pd.read_csv(f, encoding_errors='ignore', header=0) for f in all_files])\n",
      "C:\\Users\\sebas\\AppData\\Local\\Temp\\ipykernel_21868\\53397800.py:22: DtypeWarning: Columns (13,32) have mixed types. Specify dtype option on import or set low_memory=False.\n",
      "  data = pd.concat([pd.read_csv(f, encoding_errors='ignore', header=0) for f in all_files])\n",
      "C:\\Users\\sebas\\AppData\\Local\\Temp\\ipykernel_21868\\53397800.py:22: DtypeWarning: Columns (34,35,39) have mixed types. Specify dtype option on import or set low_memory=False.\n",
      "  data = pd.concat([pd.read_csv(f, encoding_errors='ignore', header=0) for f in all_files])\n"
     ]
    },
    {
     "name": "stdout",
     "output_type": "stream",
     "text": [
      "(1755610, 14)\n"
     ]
    },
    {
     "name": "stderr",
     "output_type": "stream",
     "text": [
      "C:\\Users\\sebas\\AppData\\Local\\Temp\\ipykernel_21868\\53397800.py:42: SettingWithCopyWarning: \n",
      "A value is trying to be set on a copy of a slice from a DataFrame.\n",
      "Try using .loc[row_indexer,col_indexer] = value instead\n",
      "\n",
      "See the caveats in the documentation: https://pandas.pydata.org/pandas-docs/stable/user_guide/indexing.html#returning-a-view-versus-a-copy\n",
      "  data['BusinessType'] = data['BusinessType'].fillna('Individual')\n",
      "C:\\Users\\sebas\\AppData\\Local\\Temp\\ipykernel_21868\\53397800.py:43: SettingWithCopyWarning: \n",
      "A value is trying to be set on a copy of a slice from a DataFrame.\n",
      "Try using .loc[row_indexer,col_indexer] = value instead\n",
      "\n",
      "See the caveats in the documentation: https://pandas.pydata.org/pandas-docs/stable/user_guide/indexing.html#returning-a-view-versus-a-copy\n",
      "  data['InitialInterestRate'] = data['InitialInterestRate'].fillna(data['InitialInterestRate'].min())\n",
      "C:\\Users\\sebas\\AppData\\Local\\Temp\\ipykernel_21868\\53397800.py:44: SettingWithCopyWarning: \n",
      "A value is trying to be set on a copy of a slice from a DataFrame.\n",
      "Try using .loc[row_indexer,col_indexer] = value instead\n",
      "\n",
      "See the caveats in the documentation: https://pandas.pydata.org/pandas-docs/stable/user_guide/indexing.html#returning-a-view-versus-a-copy\n",
      "  data['GrossApproval'] = data['GrossApproval'].fillna(0)\n"
     ]
    },
    {
     "data": {
      "text/html": [
       "<div>\n",
       "<style scoped>\n",
       "    .dataframe tbody tr th:only-of-type {\n",
       "        vertical-align: middle;\n",
       "    }\n",
       "\n",
       "    .dataframe tbody tr th {\n",
       "        vertical-align: top;\n",
       "    }\n",
       "\n",
       "    .dataframe thead th {\n",
       "        text-align: right;\n",
       "    }\n",
       "</style>\n",
       "<table border=\"1\" class=\"dataframe\">\n",
       "  <thead>\n",
       "    <tr style=\"text-align: right;\">\n",
       "      <th></th>\n",
       "      <th>BankName</th>\n",
       "      <th>GrossApproval</th>\n",
       "      <th>ApprovalDate</th>\n",
       "      <th>ApprovalFiscalYear</th>\n",
       "      <th>InitialInterestRate</th>\n",
       "      <th>TermInMonths</th>\n",
       "      <th>NaicsCode</th>\n",
       "      <th>BusinessType</th>\n",
       "      <th>BusinessAge</th>\n",
       "      <th>LoanStatus</th>\n",
       "      <th>PaidInFullDate</th>\n",
       "      <th>GrossChargeOffAmount</th>\n",
       "      <th>RevolverStatus</th>\n",
       "      <th>JobsSupported</th>\n",
       "    </tr>\n",
       "  </thead>\n",
       "  <tbody>\n",
       "    <tr>\n",
       "      <th>0</th>\n",
       "      <td>CIBM Bank</td>\n",
       "      <td>330000.0</td>\n",
       "      <td>10/01/1990</td>\n",
       "      <td>1991</td>\n",
       "      <td>0.0</td>\n",
       "      <td>84</td>\n",
       "      <td>421990.0</td>\n",
       "      <td>CORPORATION</td>\n",
       "      <td>NaN</td>\n",
       "      <td>PIF</td>\n",
       "      <td>07/31/2005</td>\n",
       "      <td>0</td>\n",
       "      <td>0</td>\n",
       "      <td>0</td>\n",
       "    </tr>\n",
       "    <tr>\n",
       "      <th>1</th>\n",
       "      <td>BMO Harris Bank National Association</td>\n",
       "      <td>98900.0</td>\n",
       "      <td>10/01/1990</td>\n",
       "      <td>1991</td>\n",
       "      <td>0.0</td>\n",
       "      <td>11</td>\n",
       "      <td>NaN</td>\n",
       "      <td>CORPORATION</td>\n",
       "      <td>NaN</td>\n",
       "      <td>PIF</td>\n",
       "      <td>07/31/2005</td>\n",
       "      <td>0</td>\n",
       "      <td>0</td>\n",
       "      <td>0</td>\n",
       "    </tr>\n",
       "    <tr>\n",
       "      <th>2</th>\n",
       "      <td>MISSINGMAINBANKID</td>\n",
       "      <td>120000.0</td>\n",
       "      <td>10/01/1990</td>\n",
       "      <td>1991</td>\n",
       "      <td>0.0</td>\n",
       "      <td>240</td>\n",
       "      <td>421830.0</td>\n",
       "      <td>CORPORATION</td>\n",
       "      <td>NaN</td>\n",
       "      <td>CANCLD</td>\n",
       "      <td>NaN</td>\n",
       "      <td>0</td>\n",
       "      <td>0</td>\n",
       "      <td>0</td>\n",
       "    </tr>\n",
       "    <tr>\n",
       "      <th>3</th>\n",
       "      <td>U.S. Bank, National Association</td>\n",
       "      <td>250000.0</td>\n",
       "      <td>10/01/1990</td>\n",
       "      <td>1991</td>\n",
       "      <td>0.0</td>\n",
       "      <td>48</td>\n",
       "      <td>NaN</td>\n",
       "      <td>CORPORATION</td>\n",
       "      <td>NaN</td>\n",
       "      <td>PIF</td>\n",
       "      <td>07/31/2005</td>\n",
       "      <td>0</td>\n",
       "      <td>0</td>\n",
       "      <td>0</td>\n",
       "    </tr>\n",
       "    <tr>\n",
       "      <th>4</th>\n",
       "      <td>Manufacturers and Traders Trust Company</td>\n",
       "      <td>33500.0</td>\n",
       "      <td>10/01/1990</td>\n",
       "      <td>1991</td>\n",
       "      <td>0.0</td>\n",
       "      <td>84</td>\n",
       "      <td>NaN</td>\n",
       "      <td>CORPORATION</td>\n",
       "      <td>NaN</td>\n",
       "      <td>PIF</td>\n",
       "      <td>07/31/2005</td>\n",
       "      <td>0</td>\n",
       "      <td>0</td>\n",
       "      <td>0</td>\n",
       "    </tr>\n",
       "  </tbody>\n",
       "</table>\n",
       "</div>"
      ],
      "text/plain": [
       "                                  BankName  GrossApproval ApprovalDate  \\\n",
       "0                                CIBM Bank       330000.0   10/01/1990   \n",
       "1     BMO Harris Bank National Association        98900.0   10/01/1990   \n",
       "2                        MISSINGMAINBANKID       120000.0   10/01/1990   \n",
       "3          U.S. Bank, National Association       250000.0   10/01/1990   \n",
       "4  Manufacturers and Traders Trust Company        33500.0   10/01/1990   \n",
       "\n",
       "   ApprovalFiscalYear  InitialInterestRate  TermInMonths  NaicsCode  \\\n",
       "0                1991                  0.0            84   421990.0   \n",
       "1                1991                  0.0            11        NaN   \n",
       "2                1991                  0.0           240   421830.0   \n",
       "3                1991                  0.0            48        NaN   \n",
       "4                1991                  0.0            84        NaN   \n",
       "\n",
       "  BusinessType BusinessAge LoanStatus PaidInFullDate  GrossChargeOffAmount  \\\n",
       "0  CORPORATION         NaN        PIF     07/31/2005                     0   \n",
       "1  CORPORATION         NaN        PIF     07/31/2005                     0   \n",
       "2  CORPORATION         NaN     CANCLD            NaN                     0   \n",
       "3  CORPORATION         NaN        PIF     07/31/2005                     0   \n",
       "4  CORPORATION         NaN        PIF     07/31/2005                     0   \n",
       "\n",
       "   RevolverStatus  JobsSupported  \n",
       "0               0              0  \n",
       "1               0              0  \n",
       "2               0              0  \n",
       "3               0              0  \n",
       "4               0              0  "
      ]
     },
     "metadata": {},
     "output_type": "display_data"
    }
   ],
   "source": [
    "raw_data = load_data('raw')\n",
    "pruned_data = fill_missing(prune_col(raw_data))\n",
    "print(pruned_data.shape)\n",
    "display(pruned_data.head())"
   ]
  },
  {
   "cell_type": "code",
   "execution_count": 53,
   "metadata": {},
   "outputs": [
    {
     "name": "stdout",
     "output_type": "stream",
     "text": [
      "0.1678789708420435\n"
     ]
    }
   ],
   "source": [
    "#get percentage of rows since 2018\n",
    "print(pruned_data[pruned_data['ApprovalFiscalYear'] >= 2018].shape[0]/pruned_data.shape[0])"
   ]
  },
  {
   "cell_type": "code",
   "execution_count": 54,
   "metadata": {},
   "outputs": [
    {
     "name": "stdout",
     "output_type": "stream",
     "text": [
      "0.2525327379087611\n"
     ]
    }
   ],
   "source": [
    "#get percentage of revolving credit lines\n",
    "print(pruned_data[pruned_data['RevolverStatus'] == 1].shape[0]/pruned_data.shape[0])"
   ]
  },
  {
   "cell_type": "code",
   "execution_count": 64,
   "metadata": {},
   "outputs": [
    {
     "ename": "TypeError",
     "evalue": "'>' not supported between instances of 'dict' and 'int'",
     "output_type": "error",
     "traceback": [
      "\u001b[1;31m---------------------------------------------------------------------------\u001b[0m",
      "\u001b[1;31mTypeError\u001b[0m                                 Traceback (most recent call last)",
      "\u001b[1;32mi:\\GitHub\\DSC450\\Project 3 - SBA Data\\SBA Data Processing.ipynb Cell 6\u001b[0m line \u001b[0;36m<module>\u001b[1;34m\u001b[0m\n\u001b[0;32m      <a href='vscode-notebook-cell:/i%3A/GitHub/DSC450/Project%203%20-%20SBA%20Data/SBA%20Data%20Processing.ipynb#X10sZmlsZQ%3D%3D?line=1'>2</a>\u001b[0m min_intrest_map \u001b[39m=\u001b[39m pruned_data[[\u001b[39m'\u001b[39m\u001b[39mApprovalFiscalYear\u001b[39m\u001b[39m'\u001b[39m, \u001b[39m'\u001b[39m\u001b[39mInitialInterestRate\u001b[39m\u001b[39m'\u001b[39m]]\u001b[39m.\u001b[39mdropna()\u001b[39m.\u001b[39mgroupby(\u001b[39m'\u001b[39m\u001b[39mApprovalFiscalYear\u001b[39m\u001b[39m'\u001b[39m)\u001b[39m.\u001b[39mmean()\u001b[39m.\u001b[39mto_dict()\n\u001b[0;32m      <a href='vscode-notebook-cell:/i%3A/GitHub/DSC450/Project%203%20-%20SBA%20Data/SBA%20Data%20Processing.ipynb#X10sZmlsZQ%3D%3D?line=2'>3</a>\u001b[0m \u001b[39m#replace 0's in dictionary with minium interest rate from dictionary\u001b[39;00m\n\u001b[1;32m----> <a href='vscode-notebook-cell:/i%3A/GitHub/DSC450/Project%203%20-%20SBA%20Data/SBA%20Data%20Processing.ipynb#X10sZmlsZQ%3D%3D?line=3'>4</a>\u001b[0m min_value \u001b[39m=\u001b[39m \u001b[39mmin\u001b[39m([i \u001b[39mfor\u001b[39;00m i \u001b[39min\u001b[39;00m min_intrest_map\u001b[39m.\u001b[39mvalues() \u001b[39mif\u001b[39;00m i\u001b[39m>\u001b[39m\u001b[39m0\u001b[39m])\n\u001b[0;32m      <a href='vscode-notebook-cell:/i%3A/GitHub/DSC450/Project%203%20-%20SBA%20Data/SBA%20Data%20Processing.ipynb#X10sZmlsZQ%3D%3D?line=4'>5</a>\u001b[0m min_intrest_map \u001b[39m=\u001b[39m {k: v \u001b[39mif\u001b[39;00m v \u001b[39m!=\u001b[39m \u001b[39m0\u001b[39m \u001b[39melse\u001b[39;00m min_value \u001b[39mfor\u001b[39;00m k, v \u001b[39min\u001b[39;00m min_intrest_map\u001b[39m.\u001b[39mitems()}\n\u001b[0;32m      <a href='vscode-notebook-cell:/i%3A/GitHub/DSC450/Project%203%20-%20SBA%20Data/SBA%20Data%20Processing.ipynb#X10sZmlsZQ%3D%3D?line=5'>6</a>\u001b[0m \u001b[39mprint\u001b[39m(min_intrest_map)\n",
      "\u001b[1;32mi:\\GitHub\\DSC450\\Project 3 - SBA Data\\SBA Data Processing.ipynb Cell 6\u001b[0m line \u001b[0;36m<listcomp>\u001b[1;34m(.0)\u001b[0m\n\u001b[0;32m      <a href='vscode-notebook-cell:/i%3A/GitHub/DSC450/Project%203%20-%20SBA%20Data/SBA%20Data%20Processing.ipynb#X10sZmlsZQ%3D%3D?line=1'>2</a>\u001b[0m min_intrest_map \u001b[39m=\u001b[39m pruned_data[[\u001b[39m'\u001b[39m\u001b[39mApprovalFiscalYear\u001b[39m\u001b[39m'\u001b[39m, \u001b[39m'\u001b[39m\u001b[39mInitialInterestRate\u001b[39m\u001b[39m'\u001b[39m]]\u001b[39m.\u001b[39mdropna()\u001b[39m.\u001b[39mgroupby(\u001b[39m'\u001b[39m\u001b[39mApprovalFiscalYear\u001b[39m\u001b[39m'\u001b[39m)\u001b[39m.\u001b[39mmean()\u001b[39m.\u001b[39mto_dict()\n\u001b[0;32m      <a href='vscode-notebook-cell:/i%3A/GitHub/DSC450/Project%203%20-%20SBA%20Data/SBA%20Data%20Processing.ipynb#X10sZmlsZQ%3D%3D?line=2'>3</a>\u001b[0m \u001b[39m#replace 0's in dictionary with minium interest rate from dictionary\u001b[39;00m\n\u001b[1;32m----> <a href='vscode-notebook-cell:/i%3A/GitHub/DSC450/Project%203%20-%20SBA%20Data/SBA%20Data%20Processing.ipynb#X10sZmlsZQ%3D%3D?line=3'>4</a>\u001b[0m min_value \u001b[39m=\u001b[39m \u001b[39mmin\u001b[39m([i \u001b[39mfor\u001b[39;00m i \u001b[39min\u001b[39;00m min_intrest_map\u001b[39m.\u001b[39mvalues() \u001b[39mif\u001b[39;00m i\u001b[39m>\u001b[39;49m\u001b[39m0\u001b[39;49m])\n\u001b[0;32m      <a href='vscode-notebook-cell:/i%3A/GitHub/DSC450/Project%203%20-%20SBA%20Data/SBA%20Data%20Processing.ipynb#X10sZmlsZQ%3D%3D?line=4'>5</a>\u001b[0m min_intrest_map \u001b[39m=\u001b[39m {k: v \u001b[39mif\u001b[39;00m v \u001b[39m!=\u001b[39m \u001b[39m0\u001b[39m \u001b[39melse\u001b[39;00m min_value \u001b[39mfor\u001b[39;00m k, v \u001b[39min\u001b[39;00m min_intrest_map\u001b[39m.\u001b[39mitems()}\n\u001b[0;32m      <a href='vscode-notebook-cell:/i%3A/GitHub/DSC450/Project%203%20-%20SBA%20Data/SBA%20Data%20Processing.ipynb#X10sZmlsZQ%3D%3D?line=5'>6</a>\u001b[0m \u001b[39mprint\u001b[39m(min_intrest_map)\n",
      "\u001b[1;31mTypeError\u001b[0m: '>' not supported between instances of 'dict' and 'int'"
     ]
    }
   ],
   "source": [
    "#get minimum interest rate for each fiscal year\n",
    "min_intrest_map = pruned_data[['ApprovalFiscalYear', 'InitialInterestRate']].dropna().groupby('ApprovalFiscalYear').mean().to_dict()\n",
    "#replace 0's in dictionary with minium interest rate from dictionary\n",
    "min_value = min([i for i in min_intrest_map.values() if i>0])\n",
    "min_intrest_map = {k: v if v != 0 else min_value for k, v in min_intrest_map.items()}\n",
    "print(min_intrest_map)"
   ]
  },
  {
   "cell_type": "code",
   "execution_count": 55,
   "metadata": {},
   "outputs": [
    {
     "data": {
      "text/plain": [
       "NaicsCode         0.116069\n",
       "PaidInFullDate    0.395203\n",
       "BusinessAge       0.832543\n",
       "dtype: float64"
      ]
     },
     "execution_count": 55,
     "metadata": {},
     "output_type": "execute_result"
    }
   ],
   "source": [
    "#get each columns percentage of null values\n",
    "null_percent = pruned_data.isnull().sum() / len(pruned_data)\n",
    "null_percent = null_percent[null_percent > 0]\n",
    "null_percent.sort_values(inplace=True)\n",
    "null_percent"
   ]
  }
 ],
 "metadata": {
  "kernelspec": {
   "display_name": "Python 3",
   "language": "python",
   "name": "python3"
  },
  "language_info": {
   "codemirror_mode": {
    "name": "ipython",
    "version": 3
   },
   "file_extension": ".py",
   "mimetype": "text/x-python",
   "name": "python",
   "nbconvert_exporter": "python",
   "pygments_lexer": "ipython3",
   "version": "3.9.9"
  }
 },
 "nbformat": 4,
 "nbformat_minor": 2
}
