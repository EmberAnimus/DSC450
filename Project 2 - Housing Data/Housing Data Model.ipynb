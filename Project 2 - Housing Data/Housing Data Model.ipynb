{
 "cells": [
  {
   "cell_type": "code",
   "execution_count": 1,
   "metadata": {},
   "outputs": [],
   "source": [
    "import pandas as pd, numpy as np\n",
    "from pathlib import Path\n",
    "from sklearn.linear_model import LinearRegression\n",
    "from sklearn.model_selection import train_test_split\n",
    "from sklearn.metrics import mean_absolute_error, r2_score\n",
    "\n",
    "base_path = Path()\n",
    "data_path = base_path.joinpath('data')"
   ]
  },
  {
   "cell_type": "code",
   "execution_count": 2,
   "metadata": {},
   "outputs": [
    {
     "name": "stderr",
     "output_type": "stream",
     "text": [
      "C:\\Users\\sebas\\AppData\\Local\\Temp\\ipykernel_16692\\4115285534.py:12: FutureWarning: The default value of numeric_only in DataFrameGroupBy.mean is deprecated. In a future version, numeric_only will default to False. Either specify numeric_only or select only columns which should be valid for the function.\n",
      "  house_price_df = house_price_df.groupby(house_price_df['year'].dt.year).mean().reset_index()\n"
     ]
    }
   ],
   "source": [
    "#Import data\n",
    "inflation_df = pd.read_csv(data_path.joinpath('federal inflation rate.csv'), header=0, names=['year', 'inflation'])\n",
    "house_price_df = pd.read_csv(data_path.joinpath('house price.csv'), header=0, names=['year', 'house price'])\n",
    "mean_family_income_df = pd.read_csv(data_path.joinpath('mean family income.csv'), header=0, names=['year', 'mean family income'])\n",
    "\n",
    "#set all dataframe year column to datetime\n",
    "inflation_df['year'] = pd.to_datetime(inflation_df['year']).dt.year\n",
    "house_price_df['year'] = pd.to_datetime(house_price_df['year'])\n",
    "mean_family_income_df['year'] = pd.to_datetime(mean_family_income_df['year']).dt.year\n",
    "\n",
    "#convert house_price from quarterly to yearly\n",
    "house_price_df = house_price_df.groupby(house_price_df['year'].dt.year).mean().reset_index()\n",
    "\n",
    "#round inflation_df inflation column to 2 decimal places\n",
    "inflation_df['inflation'] = inflation_df['inflation'].round(2)\n",
    "\n",
    "#find lowest common year in all dataframes and trim dataframes to start that year\n",
    "lowest_year = max(inflation_df['year'].min(), house_price_df['year'].min(), mean_family_income_df['year'].min())\n",
    "inflation_df = inflation_df[inflation_df['year'] >= lowest_year]\n",
    "house_price_df = house_price_df[house_price_df['year'] >= lowest_year]\n",
    "mean_family_income_df = mean_family_income_df[mean_family_income_df['year'] >= lowest_year]\n",
    "\n",
    "#find highest common year in all dataframes and trim dataframes to end that year\n",
    "highest_year = min(inflation_df['year'].max(), house_price_df['year'].max(), mean_family_income_df['year'].max())\n",
    "inflation_df = inflation_df[inflation_df['year'] <= highest_year]\n",
    "house_price_df = house_price_df[house_price_df['year'] <= highest_year]\n",
    "\n",
    "#merge inflation and mean_family_income dataframes\n",
    "x_info_df = pd.merge(inflation_df, mean_family_income_df, on='year', how='inner')"
   ]
  },
  {
   "cell_type": "code",
   "execution_count": 3,
   "metadata": {},
   "outputs": [
    {
     "name": "stdout",
     "output_type": "stream",
     "text": [
      "R2 Score: 0.5835960881494862\n",
      "MAE Score: 29308.5185819795\n"
     ]
    },
    {
     "data": {
      "text/html": [
       "<div>\n",
       "<style scoped>\n",
       "    .dataframe tbody tr th:only-of-type {\n",
       "        vertical-align: middle;\n",
       "    }\n",
       "\n",
       "    .dataframe tbody tr th {\n",
       "        vertical-align: top;\n",
       "    }\n",
       "\n",
       "    .dataframe thead th {\n",
       "        text-align: right;\n",
       "    }\n",
       "</style>\n",
       "<table border=\"1\" class=\"dataframe\">\n",
       "  <thead>\n",
       "    <tr style=\"text-align: right;\">\n",
       "      <th></th>\n",
       "      <th>Year</th>\n",
       "      <th>Actual</th>\n",
       "      <th>Predicted</th>\n",
       "      <th>Difference</th>\n",
       "    </tr>\n",
       "  </thead>\n",
       "  <tbody>\n",
       "    <tr>\n",
       "      <th>49</th>\n",
       "      <td>2012</td>\n",
       "      <td>244400.0</td>\n",
       "      <td>235425.71</td>\n",
       "      <td>8974.29</td>\n",
       "    </tr>\n",
       "    <tr>\n",
       "      <th>50</th>\n",
       "      <td>2013</td>\n",
       "      <td>266225.0</td>\n",
       "      <td>249362.35</td>\n",
       "      <td>16862.65</td>\n",
       "    </tr>\n",
       "    <tr>\n",
       "      <th>51</th>\n",
       "      <td>2014</td>\n",
       "      <td>285775.0</td>\n",
       "      <td>252679.75</td>\n",
       "      <td>33095.25</td>\n",
       "    </tr>\n",
       "    <tr>\n",
       "      <th>52</th>\n",
       "      <td>2015</td>\n",
       "      <td>294150.0</td>\n",
       "      <td>263449.56</td>\n",
       "      <td>30700.44</td>\n",
       "    </tr>\n",
       "    <tr>\n",
       "      <th>53</th>\n",
       "      <td>2016</td>\n",
       "      <td>305125.0</td>\n",
       "      <td>277813.40</td>\n",
       "      <td>27311.60</td>\n",
       "    </tr>\n",
       "    <tr>\n",
       "      <th>54</th>\n",
       "      <td>2017</td>\n",
       "      <td>322425.0</td>\n",
       "      <td>295435.63</td>\n",
       "      <td>26989.37</td>\n",
       "    </tr>\n",
       "    <tr>\n",
       "      <th>55</th>\n",
       "      <td>2018</td>\n",
       "      <td>325275.0</td>\n",
       "      <td>303833.25</td>\n",
       "      <td>21441.75</td>\n",
       "    </tr>\n",
       "    <tr>\n",
       "      <th>56</th>\n",
       "      <td>2019</td>\n",
       "      <td>320250.0</td>\n",
       "      <td>335053.48</td>\n",
       "      <td>-14803.48</td>\n",
       "    </tr>\n",
       "    <tr>\n",
       "      <th>57</th>\n",
       "      <td>2020</td>\n",
       "      <td>336950.0</td>\n",
       "      <td>330650.75</td>\n",
       "      <td>6299.25</td>\n",
       "    </tr>\n",
       "    <tr>\n",
       "      <th>58</th>\n",
       "      <td>2021</td>\n",
       "      <td>396800.0</td>\n",
       "      <td>351464.85</td>\n",
       "      <td>45335.15</td>\n",
       "    </tr>\n",
       "    <tr>\n",
       "      <th>59</th>\n",
       "      <td>2022</td>\n",
       "      <td>457475.0</td>\n",
       "      <td>366894.53</td>\n",
       "      <td>90580.47</td>\n",
       "    </tr>\n",
       "  </tbody>\n",
       "</table>\n",
       "</div>"
      ],
      "text/plain": [
       "    Year    Actual  Predicted  Difference\n",
       "49  2012  244400.0  235425.71     8974.29\n",
       "50  2013  266225.0  249362.35    16862.65\n",
       "51  2014  285775.0  252679.75    33095.25\n",
       "52  2015  294150.0  263449.56    30700.44\n",
       "53  2016  305125.0  277813.40    27311.60\n",
       "54  2017  322425.0  295435.63    26989.37\n",
       "55  2018  325275.0  303833.25    21441.75\n",
       "56  2019  320250.0  335053.48   -14803.48\n",
       "57  2020  336950.0  330650.75     6299.25\n",
       "58  2021  396800.0  351464.85    45335.15\n",
       "59  2022  457475.0  366894.53    90580.47"
      ]
     },
     "metadata": {},
     "output_type": "display_data"
    }
   ],
   "source": [
    "#Split the data into training (start to 2011) and testing (2012 to end) sets. This splits the data as close to 80/20 as possible.\n",
    "x_train = x_info_df[x_info_df['year'] < 2012].drop(columns=['year'])\n",
    "x_test = x_info_df[x_info_df['year'] >= 2012].drop(columns=['year'])\n",
    "y_train = house_price_df[house_price_df['year'] < 2012].drop(columns=['year'])\n",
    "y_test = house_price_df[house_price_df['year'] >= 2012].drop(columns=['year'])\n",
    "\n",
    "#Create and fit the linear regression model\n",
    "model = LinearRegression()\n",
    "model.fit(x_train, y_train)\n",
    "\n",
    "#Use the model to predict the house price for the test data\n",
    "y_pred = model.predict(x_test)\n",
    "\n",
    "#Get R2 and MAE scores for the model\n",
    "r2_score = r2_score(y_test, y_pred)\n",
    "mae_score = mean_absolute_error(y_test, y_pred)\n",
    "print(f'R2 Score: {r2_score}')\n",
    "print(f'MAE Score: {mae_score}')\n",
    "\n",
    "#Display the actual and predicted house prices for the test data. \n",
    "display(pd.DataFrame({\n",
    "    'Year': house_price_df[house_price_df['year'] >= 2012]['year'],\n",
    "    'Actual': y_test['house price'], \n",
    "    'Predicted': y_pred.flatten().round(2), \n",
    "    'Difference': y_test['house price'] - y_pred.flatten().round(2)}))"
   ]
  },
  {
   "cell_type": "code",
   "execution_count": 4,
   "metadata": {},
   "outputs": [
    {
     "data": {
      "image/png": "[encoded data removed]",
      "text/plain": [
       "<Figure size 432x288 with 1 Axes>"
      ]
     },
     "metadata": {},
     "output_type": "display_data"
    }
   ],
   "source": [
    "#graph actual vs predicted data with years as the x axis\n",
    "import matplotlib.pyplot as plt\n",
    "plt.plot(house_price_df[house_price_df['year'] >= 2012]['year'], y_test['house price'], label='Actual')\n",
    "plt.plot(house_price_df[house_price_df['year'] >= 2012]['year'], y_pred.flatten().round(2), label='Predicted')\n",
    "plt.legend()\n",
    "plt.show()"
   ]
  },
  {
   "cell_type": "code",
   "execution_count": 5,
   "metadata": {},
   "outputs": [
    {
     "data": {
      "image/png": "[encoded data removed]",
      "text/plain": [
       "<Figure size 432x288 with 1 Axes>"
      ]
     },
     "metadata": {},
     "output_type": "display_data"
    }
   ],
   "source": [
    "#graph house price vs mean family income with years as the x axis\n",
    "plt.plot(x_info_df['year'], x_info_df['mean family income'], label='Mean Family Income')\n",
    "plt.plot(house_price_df['year'], house_price_df['house price'], label='House Price')\n",
    "plt.legend()\n",
    "plt.show()"
   ]
  },
  {
   "cell_type": "code",
   "execution_count": 12,
   "metadata": {},
   "outputs": [
    {
     "name": "stdout",
     "output_type": "stream",
     "text": [
      "Inflation Coefficient: 479.8014369724711\n",
      "Mean Family Income Coefficient: 2.9460282384247294\n",
      "Formula: house_price = -9616.45790226772 + (479.8014369724711 * inflation) + (2.9460282384247294 * mean_family_income)\n"
     ]
    }
   ],
   "source": [
    "#extract model coeffecients for inflation and mean family income\n",
    "inflation_coef = model.coef_[0][0]\n",
    "mean_family_income_coef = model.coef_[0][1]\n",
    "print(f'Inflation Coefficient: {inflation_coef}')\n",
    "print(f'Mean Family Income Coefficient: {mean_family_income_coef}')\n",
    "\n",
    "#get the model's formula\n",
    "print(f'Formula: house_price = {model.intercept_[0]} + ({inflation_coef} * inflation) + ({mean_family_income_coef} * mean_family_income)')"
   ]
  }
 ],
 "metadata": {
  "kernelspec": {
   "display_name": "Python 3",
   "language": "python",
   "name": "python3"
  },
  "language_info": {
   "codemirror_mode": {
    "name": "ipython",
    "version": 3
   },
   "file_extension": ".py",
   "mimetype": "text/x-python",
   "name": "python",
   "nbconvert_exporter": "python",
   "pygments_lexer": "ipython3",
   "version": "3.9.9"
  }
 },
 "nbformat": 4,
 "nbformat_minor": 2
}
